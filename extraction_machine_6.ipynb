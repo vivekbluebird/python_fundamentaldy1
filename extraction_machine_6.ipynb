{
 "cells": [
  {
   "cell_type": "code",
   "execution_count": null,
   "metadata": {},
   "outputs": [],
   "source": [
    "# Kindly read instructions carefully. If any unexpected errors or doubts you can contact."
   ]
  },
  {
   "cell_type": "code",
   "execution_count": 46,
   "metadata": {},
   "outputs": [],
   "source": [
    "import requests\n",
    "import re\n",
    "from bs4 import BeautifulSoup\n",
    "import pandas as pd\n",
    "import numpy as np\n",
    "from selenium import webdriver\n",
    "import time\n",
    "import random\n",
    "import os\n",
    "import shutil\n",
    "from selenium import webdriver\n",
    "from selenium.webdriver.common.keys import Keys\n",
    "from time import sleep\n",
    "from selenium.webdriver.common.action_chains import ActionChains\n",
    "from selenium.webdriver import Proxy\n",
    "from selenium.webdriver.chrome.webdriver import WebDriver as ChromeDriver\n",
    "from fake_useragent import UserAgent\n",
    "from selenium.webdriver.support.wait import WebDriverWait\n",
    "# If you see error here, install required package as described in Instructions file"
   ]
  },
  {
   "cell_type": "code",
   "execution_count": 47,
   "metadata": {},
   "outputs": [],
   "source": [
    "# If you see error here, check path and name of file and folder\n",
    "# The folder setup is also desccribed in Instructions file\n",
    "df=pd.read_excel('url_machine_6.xlsx',header=None)"
   ]
  },
  {
   "cell_type": "code",
   "execution_count": 48,
   "metadata": {},
   "outputs": [],
   "source": [
    "links=df[0].tolist()"
   ]
  },
  {
   "cell_type": "code",
   "execution_count": 49,
   "metadata": {},
   "outputs": [],
   "source": [
    "# No change required here\n",
    "# No Proxy\n",
    "def newChromeBrowserDefault(headless=True, downloadPath=None):\n",
    "    \"\"\" Helper function that creates a new Selenium browser \"\"\"\n",
    "    options = webdriver.ChromeOptions()\n",
    "    options.add_argument(\"user-agent=\"+UserAgent().random)\n",
    "    if headless:\n",
    "        options.add_argument('headless')\n",
    "    if downloadPath is not None:\n",
    "        prefs = {}\n",
    "        if not os.path.exists(downloadPath):\n",
    "            os.makedirs(downloadPath)\n",
    "        prefs[\"profile.default_content_settings.popups\"]=0\n",
    "        prefs[\"download.default_directory\"]=downloadPath\n",
    "        options.add_experimental_option(\"prefs\", prefs)\n",
    "\n",
    "    browser = webdriver.Chrome(chrome_options=options, executable_path='C:\\driver\\chromedriver.exe')\n",
    "    return browser"
   ]
  },
  {
   "cell_type": "code",
   "execution_count": 50,
   "metadata": {},
   "outputs": [],
   "source": [
    "#### CHANGE HERE\n",
    "\n",
    "# When using Code 2 in the cell below, you will need to provide a proxy\n",
    "# 1) Visit https://www.sslproxies.org for new proxies\n",
    "\n",
    "# 2) Replace proxy here in the given field and run this cell, before running Code 2\n",
    "\n",
    "# With Proxy\n",
    "def newChromeBrowserProxy(headless=True, downloadPath=None,proxy='194.183.168.129'):\n",
    "    \"\"\" Helper function that creates a new Selenium browser \"\"\"\n",
    "    options = webdriver.ChromeOptions()\n",
    "    options.add_argument(\"user-agent=\"+UserAgent().random)\n",
    "    if headless:\n",
    "        options.add_argument('headless')\n",
    "    if downloadPath is not None:\n",
    "        prefs = {}\n",
    "        if not os.path.isdir(downloadPath):\n",
    "            os.makedirs(downloadPath)\n",
    "        prefs[\"profile.default_content_settings.popups\"]=0\n",
    "        prefs[\"download.default_directory\"]=downloadPath\n",
    "        options.add_experimental_option(\"prefs\", prefs)\n",
    "\n",
    "    settings = {\n",
    "    \"httpProxy\": proxy,\n",
    "    \"sslProxy\": proxy\n",
    "    }\n",
    "    proxy = Proxy(settings)\n",
    "    from selenium.webdriver.common.desired_capabilities import DesiredCapabilities\n",
    "    cap = DesiredCapabilities.CHROME.copy()\n",
    "    cap['platform'] = \"WINDOWS\"\n",
    "    cap['version'] = \"7\"\n",
    "    proxy.add_to_capabilities(cap)\n",
    "\n",
    "    browser = ChromeDriver(\"C:\\driver\\chromedriver.exe\",desired_capabilities=cap,chrome_options=options)\n",
    "    return browser"
   ]
  },
  {
   "cell_type": "code",
   "execution_count": 51,
   "metadata": {},
   "outputs": [
    {
     "data": {
      "text/plain": [
       "False"
      ]
     },
     "execution_count": 51,
     "metadata": {},
     "output_type": "execute_result"
    }
   ],
   "source": [
    "len(links)==100000"
   ]
  },
  {
   "cell_type": "code",
   "execution_count": 52,
   "metadata": {},
   "outputs": [],
   "source": [
    "#### CHANGE HERE\n",
    "# Set download path here to 'all_data' folder as described in Instructions file\n",
    "# Use '\\\\' to seperate path\n",
    "downloadPath=\"D:\\\\Robin Google Trend II\\\\all_data\""
   ]
  },
  {
   "cell_type": "code",
   "execution_count": 53,
   "metadata": {},
   "outputs": [
    {
     "name": "stderr",
     "output_type": "stream",
     "text": [
      "C:\\Users\\Vivek\\Anaconda3\\lib\\site-packages\\ipykernel_launcher.py:17: DeprecationWarning: use options instead of chrome_options\n"
     ]
    },
    {
     "ename": "SessionNotCreatedException",
     "evalue": "Message: session not created: This version of ChromeDriver only supports Chrome version 75\n",
     "output_type": "error",
     "traceback": [
      "\u001b[1;31m---------------------------------------------------------------------------\u001b[0m",
      "\u001b[1;31mSessionNotCreatedException\u001b[0m                Traceback (most recent call last)",
      "\u001b[1;32m<ipython-input-53-37e18d819a16>\u001b[0m in \u001b[0;36m<module>\u001b[1;34m\u001b[0m\n\u001b[0;32m     11\u001b[0m \u001b[1;33m\u001b[0m\u001b[0m\n\u001b[0;32m     12\u001b[0m \u001b[1;31m# Code 1\u001b[0m\u001b[1;33m\u001b[0m\u001b[1;33m\u001b[0m\u001b[1;33m\u001b[0m\u001b[0m\n\u001b[1;32m---> 13\u001b[1;33m \u001b[0mdriver\u001b[0m \u001b[1;33m=\u001b[0m \u001b[0mnewChromeBrowserDefault\u001b[0m\u001b[1;33m(\u001b[0m\u001b[0mheadless\u001b[0m\u001b[1;33m=\u001b[0m\u001b[1;32mFalse\u001b[0m\u001b[1;33m,\u001b[0m\u001b[0mdownloadPath\u001b[0m\u001b[1;33m=\u001b[0m\u001b[0mdownloadPath\u001b[0m\u001b[1;33m)\u001b[0m\u001b[1;33m\u001b[0m\u001b[1;33m\u001b[0m\u001b[0m\n\u001b[0m\u001b[0;32m     14\u001b[0m \u001b[1;33m\u001b[0m\u001b[0m\n\u001b[0;32m     15\u001b[0m \u001b[1;33m\u001b[0m\u001b[0m\n",
      "\u001b[1;32m<ipython-input-49-605a49c7012f>\u001b[0m in \u001b[0;36mnewChromeBrowserDefault\u001b[1;34m(headless, downloadPath)\u001b[0m\n\u001b[0;32m     15\u001b[0m         \u001b[0moptions\u001b[0m\u001b[1;33m.\u001b[0m\u001b[0madd_experimental_option\u001b[0m\u001b[1;33m(\u001b[0m\u001b[1;34m\"prefs\"\u001b[0m\u001b[1;33m,\u001b[0m \u001b[0mprefs\u001b[0m\u001b[1;33m)\u001b[0m\u001b[1;33m\u001b[0m\u001b[1;33m\u001b[0m\u001b[0m\n\u001b[0;32m     16\u001b[0m \u001b[1;33m\u001b[0m\u001b[0m\n\u001b[1;32m---> 17\u001b[1;33m     \u001b[0mbrowser\u001b[0m \u001b[1;33m=\u001b[0m \u001b[0mwebdriver\u001b[0m\u001b[1;33m.\u001b[0m\u001b[0mChrome\u001b[0m\u001b[1;33m(\u001b[0m\u001b[0mchrome_options\u001b[0m\u001b[1;33m=\u001b[0m\u001b[0moptions\u001b[0m\u001b[1;33m,\u001b[0m \u001b[0mexecutable_path\u001b[0m\u001b[1;33m=\u001b[0m\u001b[1;34m'C:\\driver\\chromedriver.exe'\u001b[0m\u001b[1;33m)\u001b[0m\u001b[1;33m\u001b[0m\u001b[1;33m\u001b[0m\u001b[0m\n\u001b[0m\u001b[0;32m     18\u001b[0m     \u001b[1;32mreturn\u001b[0m \u001b[0mbrowser\u001b[0m\u001b[1;33m\u001b[0m\u001b[1;33m\u001b[0m\u001b[0m\n",
      "\u001b[1;32m~\\Anaconda3\\lib\\site-packages\\selenium\\webdriver\\chrome\\webdriver.py\u001b[0m in \u001b[0;36m__init__\u001b[1;34m(self, executable_path, port, options, service_args, desired_capabilities, service_log_path, chrome_options, keep_alive)\u001b[0m\n\u001b[0;32m     79\u001b[0m                     \u001b[0mremote_server_addr\u001b[0m\u001b[1;33m=\u001b[0m\u001b[0mself\u001b[0m\u001b[1;33m.\u001b[0m\u001b[0mservice\u001b[0m\u001b[1;33m.\u001b[0m\u001b[0mservice_url\u001b[0m\u001b[1;33m,\u001b[0m\u001b[1;33m\u001b[0m\u001b[1;33m\u001b[0m\u001b[0m\n\u001b[0;32m     80\u001b[0m                     keep_alive=keep_alive),\n\u001b[1;32m---> 81\u001b[1;33m                 desired_capabilities=desired_capabilities)\n\u001b[0m\u001b[0;32m     82\u001b[0m         \u001b[1;32mexcept\u001b[0m \u001b[0mException\u001b[0m\u001b[1;33m:\u001b[0m\u001b[1;33m\u001b[0m\u001b[1;33m\u001b[0m\u001b[0m\n\u001b[0;32m     83\u001b[0m             \u001b[0mself\u001b[0m\u001b[1;33m.\u001b[0m\u001b[0mquit\u001b[0m\u001b[1;33m(\u001b[0m\u001b[1;33m)\u001b[0m\u001b[1;33m\u001b[0m\u001b[1;33m\u001b[0m\u001b[0m\n",
      "\u001b[1;32m~\\Anaconda3\\lib\\site-packages\\selenium\\webdriver\\remote\\webdriver.py\u001b[0m in \u001b[0;36m__init__\u001b[1;34m(self, command_executor, desired_capabilities, browser_profile, proxy, keep_alive, file_detector, options)\u001b[0m\n\u001b[0;32m    155\u001b[0m             warnings.warn(\"Please use FirefoxOptions to set browser profile\",\n\u001b[0;32m    156\u001b[0m                           DeprecationWarning, stacklevel=2)\n\u001b[1;32m--> 157\u001b[1;33m         \u001b[0mself\u001b[0m\u001b[1;33m.\u001b[0m\u001b[0mstart_session\u001b[0m\u001b[1;33m(\u001b[0m\u001b[0mcapabilities\u001b[0m\u001b[1;33m,\u001b[0m \u001b[0mbrowser_profile\u001b[0m\u001b[1;33m)\u001b[0m\u001b[1;33m\u001b[0m\u001b[1;33m\u001b[0m\u001b[0m\n\u001b[0m\u001b[0;32m    158\u001b[0m         \u001b[0mself\u001b[0m\u001b[1;33m.\u001b[0m\u001b[0m_switch_to\u001b[0m \u001b[1;33m=\u001b[0m \u001b[0mSwitchTo\u001b[0m\u001b[1;33m(\u001b[0m\u001b[0mself\u001b[0m\u001b[1;33m)\u001b[0m\u001b[1;33m\u001b[0m\u001b[1;33m\u001b[0m\u001b[0m\n\u001b[0;32m    159\u001b[0m         \u001b[0mself\u001b[0m\u001b[1;33m.\u001b[0m\u001b[0m_mobile\u001b[0m \u001b[1;33m=\u001b[0m \u001b[0mMobile\u001b[0m\u001b[1;33m(\u001b[0m\u001b[0mself\u001b[0m\u001b[1;33m)\u001b[0m\u001b[1;33m\u001b[0m\u001b[1;33m\u001b[0m\u001b[0m\n",
      "\u001b[1;32m~\\Anaconda3\\lib\\site-packages\\selenium\\webdriver\\remote\\webdriver.py\u001b[0m in \u001b[0;36mstart_session\u001b[1;34m(self, capabilities, browser_profile)\u001b[0m\n\u001b[0;32m    250\u001b[0m         parameters = {\"capabilities\": w3c_caps,\n\u001b[0;32m    251\u001b[0m                       \"desiredCapabilities\": capabilities}\n\u001b[1;32m--> 252\u001b[1;33m         \u001b[0mresponse\u001b[0m \u001b[1;33m=\u001b[0m \u001b[0mself\u001b[0m\u001b[1;33m.\u001b[0m\u001b[0mexecute\u001b[0m\u001b[1;33m(\u001b[0m\u001b[0mCommand\u001b[0m\u001b[1;33m.\u001b[0m\u001b[0mNEW_SESSION\u001b[0m\u001b[1;33m,\u001b[0m \u001b[0mparameters\u001b[0m\u001b[1;33m)\u001b[0m\u001b[1;33m\u001b[0m\u001b[1;33m\u001b[0m\u001b[0m\n\u001b[0m\u001b[0;32m    253\u001b[0m         \u001b[1;32mif\u001b[0m \u001b[1;34m'sessionId'\u001b[0m \u001b[1;32mnot\u001b[0m \u001b[1;32min\u001b[0m \u001b[0mresponse\u001b[0m\u001b[1;33m:\u001b[0m\u001b[1;33m\u001b[0m\u001b[1;33m\u001b[0m\u001b[0m\n\u001b[0;32m    254\u001b[0m             \u001b[0mresponse\u001b[0m \u001b[1;33m=\u001b[0m \u001b[0mresponse\u001b[0m\u001b[1;33m[\u001b[0m\u001b[1;34m'value'\u001b[0m\u001b[1;33m]\u001b[0m\u001b[1;33m\u001b[0m\u001b[1;33m\u001b[0m\u001b[0m\n",
      "\u001b[1;32m~\\Anaconda3\\lib\\site-packages\\selenium\\webdriver\\remote\\webdriver.py\u001b[0m in \u001b[0;36mexecute\u001b[1;34m(self, driver_command, params)\u001b[0m\n\u001b[0;32m    319\u001b[0m         \u001b[0mresponse\u001b[0m \u001b[1;33m=\u001b[0m \u001b[0mself\u001b[0m\u001b[1;33m.\u001b[0m\u001b[0mcommand_executor\u001b[0m\u001b[1;33m.\u001b[0m\u001b[0mexecute\u001b[0m\u001b[1;33m(\u001b[0m\u001b[0mdriver_command\u001b[0m\u001b[1;33m,\u001b[0m \u001b[0mparams\u001b[0m\u001b[1;33m)\u001b[0m\u001b[1;33m\u001b[0m\u001b[1;33m\u001b[0m\u001b[0m\n\u001b[0;32m    320\u001b[0m         \u001b[1;32mif\u001b[0m \u001b[0mresponse\u001b[0m\u001b[1;33m:\u001b[0m\u001b[1;33m\u001b[0m\u001b[1;33m\u001b[0m\u001b[0m\n\u001b[1;32m--> 321\u001b[1;33m             \u001b[0mself\u001b[0m\u001b[1;33m.\u001b[0m\u001b[0merror_handler\u001b[0m\u001b[1;33m.\u001b[0m\u001b[0mcheck_response\u001b[0m\u001b[1;33m(\u001b[0m\u001b[0mresponse\u001b[0m\u001b[1;33m)\u001b[0m\u001b[1;33m\u001b[0m\u001b[1;33m\u001b[0m\u001b[0m\n\u001b[0m\u001b[0;32m    322\u001b[0m             response['value'] = self._unwrap_value(\n\u001b[0;32m    323\u001b[0m                 response.get('value', None))\n",
      "\u001b[1;32m~\\Anaconda3\\lib\\site-packages\\selenium\\webdriver\\remote\\errorhandler.py\u001b[0m in \u001b[0;36mcheck_response\u001b[1;34m(self, response)\u001b[0m\n\u001b[0;32m    240\u001b[0m                 \u001b[0malert_text\u001b[0m \u001b[1;33m=\u001b[0m \u001b[0mvalue\u001b[0m\u001b[1;33m[\u001b[0m\u001b[1;34m'alert'\u001b[0m\u001b[1;33m]\u001b[0m\u001b[1;33m.\u001b[0m\u001b[0mget\u001b[0m\u001b[1;33m(\u001b[0m\u001b[1;34m'text'\u001b[0m\u001b[1;33m)\u001b[0m\u001b[1;33m\u001b[0m\u001b[1;33m\u001b[0m\u001b[0m\n\u001b[0;32m    241\u001b[0m             \u001b[1;32mraise\u001b[0m \u001b[0mexception_class\u001b[0m\u001b[1;33m(\u001b[0m\u001b[0mmessage\u001b[0m\u001b[1;33m,\u001b[0m \u001b[0mscreen\u001b[0m\u001b[1;33m,\u001b[0m \u001b[0mstacktrace\u001b[0m\u001b[1;33m,\u001b[0m \u001b[0malert_text\u001b[0m\u001b[1;33m)\u001b[0m\u001b[1;33m\u001b[0m\u001b[1;33m\u001b[0m\u001b[0m\n\u001b[1;32m--> 242\u001b[1;33m         \u001b[1;32mraise\u001b[0m \u001b[0mexception_class\u001b[0m\u001b[1;33m(\u001b[0m\u001b[0mmessage\u001b[0m\u001b[1;33m,\u001b[0m \u001b[0mscreen\u001b[0m\u001b[1;33m,\u001b[0m \u001b[0mstacktrace\u001b[0m\u001b[1;33m)\u001b[0m\u001b[1;33m\u001b[0m\u001b[1;33m\u001b[0m\u001b[0m\n\u001b[0m\u001b[0;32m    243\u001b[0m \u001b[1;33m\u001b[0m\u001b[0m\n\u001b[0;32m    244\u001b[0m     \u001b[1;32mdef\u001b[0m \u001b[0m_value_or_default\u001b[0m\u001b[1;33m(\u001b[0m\u001b[0mself\u001b[0m\u001b[1;33m,\u001b[0m \u001b[0mobj\u001b[0m\u001b[1;33m,\u001b[0m \u001b[0mkey\u001b[0m\u001b[1;33m,\u001b[0m \u001b[0mdefault\u001b[0m\u001b[1;33m)\u001b[0m\u001b[1;33m:\u001b[0m\u001b[1;33m\u001b[0m\u001b[1;33m\u001b[0m\u001b[0m\n",
      "\u001b[1;31mSessionNotCreatedException\u001b[0m: Message: session not created: This version of ChromeDriver only supports Chrome version 75\n"
     ]
    }
   ],
   "source": [
    "#### CHANGE HERE AS DESCRIBED BELOW\n",
    "\n",
    "# If you close the bot chrome window, you will need to run this cell again to launch new chrome window\n",
    "\n",
    "# Only call one of the functions at a time below\n",
    "\n",
    "# There is a 24 hour restriction on every IP/internet connection/4G network you are using after about 700 downloads\n",
    "# When you reach that limit code will crash\n",
    "# When you run for the first time every 24 hours run 'newChromeBrowserDefault' function and comment the other function call\n",
    "# In other words, run Code 1 and comment Code 2\n",
    "\n",
    "# Code 1\n",
    "driver = newChromeBrowserDefault(headless=False,downloadPath=downloadPath)\n",
    "\n",
    "\n",
    "# Whenever limit is reached for your internet connection either change the network or to continue using the same network for further \n",
    "# downloads use the below second method with proxy\n",
    "# To run second method uncomment call to 'newChromeBrowserProxy' and comment call to 'newChromeBrowserDefault'\n",
    "# In other words, run Code 2 and comment Code 1\n",
    "\n",
    "# Note: Before running Code 2, replace proxy in function definition in above cell\n",
    "\n",
    "# Code 2\n",
    "# driver = newChromeBrowserProxy(headless=False,downloadPath=downloadPath)"
   ]
  },
  {
   "cell_type": "code",
   "execution_count": null,
   "metadata": {},
   "outputs": [],
   "source": [
    "#### KEY POINTS TO KNOW\n",
    "# 1) Most of the proxies that you will try using Code 2 would be banned by google, so the code below will crash for those particular \n",
    "#    proxies. You will have to replace and try a few proxies before you get one that is usable.\n",
    "# 2) A new google chrome window will open that will be operated by our automated bot.\n",
    "#    REMEMBER: Do not minimize that chrome window which is being operated by bot or else it will crash\n",
    "# 3) When a trying proxy and after you see a crash in the code below. To verify that proxy actually is not loading any data, try \n",
    "#    refreshing the window few times to see if it responds. If it works, try running code again, otherwise change proxy.\n",
    "# 4) When there is no error and the code is still running, do not interfere with bot chrome window or any files in the all_data folder\n",
    "# \n",
    "# 5) In general, as very few percentage of proxies work, if you have an alternate internet connection we recommend that you use it\n",
    "#    until it's limit is reached as compared to using a proxy. Once you have used up your daily limit of ~700 downloads for each \n",
    "#    network then use the the proxy method"
   ]
  },
  {
   "cell_type": "code",
   "execution_count": null,
   "metadata": {},
   "outputs": [],
   "source": [
    "# No change required here\n",
    "def get_time(downloadPath):\n",
    "    return max([os.path.getmtime(os.path.join(downloadPath, f)) for f in os.listdir(downloadPath) if os.path.isfile(os.path.join(downloadPath, f))], default=0)\n",
    "\n",
    "def download_done_chk1(downloadPath):\n",
    "    for f in os.listdir(downloadPath):\n",
    "        if (\".tmp\" in f) or (\".crdownload\" in f) or (\".part\" in f):\n",
    "            time.sleep(0.5)\n",
    "            print(\"in recursion 1\")\n",
    "            download_done_chk1(downloadPath)\n",
    "    \n",
    "def download_done_chk2(previous_mtime):\n",
    "    new_mtime=get_time(downloadPath)\n",
    "    if new_mtime==previous_mtime:\n",
    "        time.sleep(0.5)\n",
    "        print(\"in recursion 2\")\n",
    "        download_done_chk2(previous_mtime)\n",
    "    elif new_mtime<previous_mtime:\n",
    "        print(\"unexpected error\")"
   ]
  },
  {
   "cell_type": "code",
   "execution_count": null,
   "metadata": {},
   "outputs": [],
   "source": [
    "# Machine 6\n",
    "# Following are index values\n",
    "# Batch range that you have to run: 400000-499999"
   ]
  },
  {
   "cell_type": "code",
   "execution_count": null,
   "metadata": {},
   "outputs": [],
   "source": [
    "# CHANGE HERE\n",
    "# When running for the very first time no change is required\n",
    "# When one or more files have been downloaded in the all_data folder and the code crashes, \n",
    "# then YOU NEED TO MAKE CHANGE TO OFFSET BEFORE EXECUTING THIS CELL AGAIN\n",
    "\n",
    "# How to make change:\n",
    "# Look at the last file number that has been downloaded and change offset as described below.\n",
    "# For example, let's say the name of latest file downloaded is data_400010.csv\n",
    "# In that case, the offset for the next run would be 400011\n",
    "\n",
    "# In other words, offset for next run would be last file number + 1\n",
    "\n",
    "# Only offset value has to be changed. No other changes should be made.\n",
    "\n",
    "# Give a little extra caution while modifying offset as it would be difficult for us to handle any errors later in the process\n",
    "\n",
    "offset=400011\n",
    "previous_mtime=get_time(downloadPath)\n",
    "\n",
    "for idx,link in enumerate(links[offset-400011:100]):\n",
    "    driver.get(link.replace('.nl','.com'))\n",
    "    try:\n",
    "        element = WebDriverWait(driver, 10).until(lambda x: x.find_element_by_xpath('/html/body/div[2]/div[2]/div/md-content/div/div/div[1]/trends-widget/ng-include/widget/div/div/div/widget-actions/div/button[1]'))\n",
    "    except:\n",
    "        driver.refresh()\n",
    "        try:\n",
    "            element = WebDriverWait(driver, 10).until(lambda x: x.find_element_by_xpath('/html/body/div[2]/div[2]/div/md-content/div/div/div[1]/trends-widget/ng-include/widget/div/div/div/widget-actions/div/button[1]'))\n",
    "        except:\n",
    "            print(\"Exception occured: Verify if the daily limit is reached on current network.\")\n",
    "            \n",
    "    print(\"Ready to download\")\n",
    "    element.click()\n",
    "    download_done_chk1(downloadPath)\n",
    "    download_done_chk2(previous_mtime)\n",
    "    filename = max([os.path.join(downloadPath, f) for f in os.listdir(downloadPath) if os.path.isfile(os.path.join(downloadPath, f))], key=os.path.getmtime)\n",
    "    shutil.move(filename,downloadPath+'\\\\'+\"data\"+\"_\"+str((offset+idx))+'.csv')\n",
    "    previous_mtime=get_time(downloadPath)\n",
    "    print(idx)\n",
    "    print(link)\n",
    "    print(\"Success\")"
   ]
  },
  {
   "cell_type": "code",
   "execution_count": null,
   "metadata": {},
   "outputs": [],
   "source": []
  },
  {
   "cell_type": "code",
   "execution_count": null,
   "metadata": {},
   "outputs": [],
   "source": []
  },
  {
   "cell_type": "code",
   "execution_count": null,
   "metadata": {},
   "outputs": [],
   "source": []
  }
 ],
 "metadata": {
  "kernelspec": {
   "display_name": "Python 3",
   "language": "python",
   "name": "python3"
  },
  "language_info": {
   "codemirror_mode": {
    "name": "ipython",
    "version": 3
   },
   "file_extension": ".py",
   "mimetype": "text/x-python",
   "name": "python",
   "nbconvert_exporter": "python",
   "pygments_lexer": "ipython3",
   "version": "3.7.1"
  }
 },
 "nbformat": 4,
 "nbformat_minor": 2
}
